{
  "cells": [
    {
      "cell_type": "code",
      "execution_count": 75,
      "metadata": {
        "id": "Dhcp38KTYmET"
      },
      "outputs": [],
      "source": [
        "import numpy as np\n",
        "import matplotlib.pyplot as plt\n",
        "import pandas as pd"
      ]
    },
    {
      "cell_type": "code",
      "execution_count": 76,
      "metadata": {
        "colab": {
          "base_uri": "https://localhost:8080/",
          "height": 423
        },
        "id": "mALTR47MY3_Z",
        "outputId": "407efbfb-558b-4f97-d4d2-3adb3543aec6"
      },
      "outputs": [
        {
          "output_type": "execute_result",
          "data": {
            "text/plain": [
              "            Date    Open    High     Low   Close      Volume\n",
              "0       1/3/2012  325.25  332.83  324.97  663.59   7,380,500\n",
              "1       1/4/2012  331.27  333.87  329.08  666.45   5,749,400\n",
              "2       1/5/2012  329.83  330.75  326.89  657.21   6,590,300\n",
              "3       1/6/2012  328.34  328.77  323.68  648.24   5,405,900\n",
              "4       1/9/2012  322.04  322.29  309.46  620.76  11,688,800\n",
              "...          ...     ...     ...     ...     ...         ...\n",
              "1253  12/23/2016  790.90  792.74  787.28  789.91     623,400\n",
              "1254  12/27/2016  790.68  797.86  787.66  791.55     789,100\n",
              "1255  12/28/2016  793.70  794.23  783.20  785.05   1,153,800\n",
              "1256  12/29/2016  783.33  785.93  778.92  782.79     744,300\n",
              "1257  12/30/2016  782.75  782.78  770.41  771.82   1,770,000\n",
              "\n",
              "[1258 rows x 6 columns]"
            ],
            "text/html": [
              "\n",
              "  <div id=\"df-31e586bd-61a6-4d31-b2d6-92a67035db6b\">\n",
              "    <div class=\"colab-df-container\">\n",
              "      <div>\n",
              "<style scoped>\n",
              "    .dataframe tbody tr th:only-of-type {\n",
              "        vertical-align: middle;\n",
              "    }\n",
              "\n",
              "    .dataframe tbody tr th {\n",
              "        vertical-align: top;\n",
              "    }\n",
              "\n",
              "    .dataframe thead th {\n",
              "        text-align: right;\n",
              "    }\n",
              "</style>\n",
              "<table border=\"1\" class=\"dataframe\">\n",
              "  <thead>\n",
              "    <tr style=\"text-align: right;\">\n",
              "      <th></th>\n",
              "      <th>Date</th>\n",
              "      <th>Open</th>\n",
              "      <th>High</th>\n",
              "      <th>Low</th>\n",
              "      <th>Close</th>\n",
              "      <th>Volume</th>\n",
              "    </tr>\n",
              "  </thead>\n",
              "  <tbody>\n",
              "    <tr>\n",
              "      <th>0</th>\n",
              "      <td>1/3/2012</td>\n",
              "      <td>325.25</td>\n",
              "      <td>332.83</td>\n",
              "      <td>324.97</td>\n",
              "      <td>663.59</td>\n",
              "      <td>7,380,500</td>\n",
              "    </tr>\n",
              "    <tr>\n",
              "      <th>1</th>\n",
              "      <td>1/4/2012</td>\n",
              "      <td>331.27</td>\n",
              "      <td>333.87</td>\n",
              "      <td>329.08</td>\n",
              "      <td>666.45</td>\n",
              "      <td>5,749,400</td>\n",
              "    </tr>\n",
              "    <tr>\n",
              "      <th>2</th>\n",
              "      <td>1/5/2012</td>\n",
              "      <td>329.83</td>\n",
              "      <td>330.75</td>\n",
              "      <td>326.89</td>\n",
              "      <td>657.21</td>\n",
              "      <td>6,590,300</td>\n",
              "    </tr>\n",
              "    <tr>\n",
              "      <th>3</th>\n",
              "      <td>1/6/2012</td>\n",
              "      <td>328.34</td>\n",
              "      <td>328.77</td>\n",
              "      <td>323.68</td>\n",
              "      <td>648.24</td>\n",
              "      <td>5,405,900</td>\n",
              "    </tr>\n",
              "    <tr>\n",
              "      <th>4</th>\n",
              "      <td>1/9/2012</td>\n",
              "      <td>322.04</td>\n",
              "      <td>322.29</td>\n",
              "      <td>309.46</td>\n",
              "      <td>620.76</td>\n",
              "      <td>11,688,800</td>\n",
              "    </tr>\n",
              "    <tr>\n",
              "      <th>...</th>\n",
              "      <td>...</td>\n",
              "      <td>...</td>\n",
              "      <td>...</td>\n",
              "      <td>...</td>\n",
              "      <td>...</td>\n",
              "      <td>...</td>\n",
              "    </tr>\n",
              "    <tr>\n",
              "      <th>1253</th>\n",
              "      <td>12/23/2016</td>\n",
              "      <td>790.90</td>\n",
              "      <td>792.74</td>\n",
              "      <td>787.28</td>\n",
              "      <td>789.91</td>\n",
              "      <td>623,400</td>\n",
              "    </tr>\n",
              "    <tr>\n",
              "      <th>1254</th>\n",
              "      <td>12/27/2016</td>\n",
              "      <td>790.68</td>\n",
              "      <td>797.86</td>\n",
              "      <td>787.66</td>\n",
              "      <td>791.55</td>\n",
              "      <td>789,100</td>\n",
              "    </tr>\n",
              "    <tr>\n",
              "      <th>1255</th>\n",
              "      <td>12/28/2016</td>\n",
              "      <td>793.70</td>\n",
              "      <td>794.23</td>\n",
              "      <td>783.20</td>\n",
              "      <td>785.05</td>\n",
              "      <td>1,153,800</td>\n",
              "    </tr>\n",
              "    <tr>\n",
              "      <th>1256</th>\n",
              "      <td>12/29/2016</td>\n",
              "      <td>783.33</td>\n",
              "      <td>785.93</td>\n",
              "      <td>778.92</td>\n",
              "      <td>782.79</td>\n",
              "      <td>744,300</td>\n",
              "    </tr>\n",
              "    <tr>\n",
              "      <th>1257</th>\n",
              "      <td>12/30/2016</td>\n",
              "      <td>782.75</td>\n",
              "      <td>782.78</td>\n",
              "      <td>770.41</td>\n",
              "      <td>771.82</td>\n",
              "      <td>1,770,000</td>\n",
              "    </tr>\n",
              "  </tbody>\n",
              "</table>\n",
              "<p>1258 rows × 6 columns</p>\n",
              "</div>\n",
              "      <button class=\"colab-df-convert\" onclick=\"convertToInteractive('df-31e586bd-61a6-4d31-b2d6-92a67035db6b')\"\n",
              "              title=\"Convert this dataframe to an interactive table.\"\n",
              "              style=\"display:none;\">\n",
              "        \n",
              "  <svg xmlns=\"http://www.w3.org/2000/svg\" height=\"24px\"viewBox=\"0 0 24 24\"\n",
              "       width=\"24px\">\n",
              "    <path d=\"M0 0h24v24H0V0z\" fill=\"none\"/>\n",
              "    <path d=\"M18.56 5.44l.94 2.06.94-2.06 2.06-.94-2.06-.94-.94-2.06-.94 2.06-2.06.94zm-11 1L8.5 8.5l.94-2.06 2.06-.94-2.06-.94L8.5 2.5l-.94 2.06-2.06.94zm10 10l.94 2.06.94-2.06 2.06-.94-2.06-.94-.94-2.06-.94 2.06-2.06.94z\"/><path d=\"M17.41 7.96l-1.37-1.37c-.4-.4-.92-.59-1.43-.59-.52 0-1.04.2-1.43.59L10.3 9.45l-7.72 7.72c-.78.78-.78 2.05 0 2.83L4 21.41c.39.39.9.59 1.41.59.51 0 1.02-.2 1.41-.59l7.78-7.78 2.81-2.81c.8-.78.8-2.07 0-2.86zM5.41 20L4 18.59l7.72-7.72 1.47 1.35L5.41 20z\"/>\n",
              "  </svg>\n",
              "      </button>\n",
              "      \n",
              "  <style>\n",
              "    .colab-df-container {\n",
              "      display:flex;\n",
              "      flex-wrap:wrap;\n",
              "      gap: 12px;\n",
              "    }\n",
              "\n",
              "    .colab-df-convert {\n",
              "      background-color: #E8F0FE;\n",
              "      border: none;\n",
              "      border-radius: 50%;\n",
              "      cursor: pointer;\n",
              "      display: none;\n",
              "      fill: #1967D2;\n",
              "      height: 32px;\n",
              "      padding: 0 0 0 0;\n",
              "      width: 32px;\n",
              "    }\n",
              "\n",
              "    .colab-df-convert:hover {\n",
              "      background-color: #E2EBFA;\n",
              "      box-shadow: 0px 1px 2px rgba(60, 64, 67, 0.3), 0px 1px 3px 1px rgba(60, 64, 67, 0.15);\n",
              "      fill: #174EA6;\n",
              "    }\n",
              "\n",
              "    [theme=dark] .colab-df-convert {\n",
              "      background-color: #3B4455;\n",
              "      fill: #D2E3FC;\n",
              "    }\n",
              "\n",
              "    [theme=dark] .colab-df-convert:hover {\n",
              "      background-color: #434B5C;\n",
              "      box-shadow: 0px 1px 3px 1px rgba(0, 0, 0, 0.15);\n",
              "      filter: drop-shadow(0px 1px 2px rgba(0, 0, 0, 0.3));\n",
              "      fill: #FFFFFF;\n",
              "    }\n",
              "  </style>\n",
              "\n",
              "      <script>\n",
              "        const buttonEl =\n",
              "          document.querySelector('#df-31e586bd-61a6-4d31-b2d6-92a67035db6b button.colab-df-convert');\n",
              "        buttonEl.style.display =\n",
              "          google.colab.kernel.accessAllowed ? 'block' : 'none';\n",
              "\n",
              "        async function convertToInteractive(key) {\n",
              "          const element = document.querySelector('#df-31e586bd-61a6-4d31-b2d6-92a67035db6b');\n",
              "          const dataTable =\n",
              "            await google.colab.kernel.invokeFunction('convertToInteractive',\n",
              "                                                     [key], {});\n",
              "          if (!dataTable) return;\n",
              "\n",
              "          const docLinkHtml = 'Like what you see? Visit the ' +\n",
              "            '<a target=\"_blank\" href=https://colab.research.google.com/notebooks/data_table.ipynb>data table notebook</a>'\n",
              "            + ' to learn more about interactive tables.';\n",
              "          element.innerHTML = '';\n",
              "          dataTable['output_type'] = 'display_data';\n",
              "          await google.colab.output.renderOutput(dataTable, element);\n",
              "          const docLink = document.createElement('div');\n",
              "          docLink.innerHTML = docLinkHtml;\n",
              "          element.appendChild(docLink);\n",
              "        }\n",
              "      </script>\n",
              "    </div>\n",
              "  </div>\n",
              "  "
            ]
          },
          "metadata": {},
          "execution_count": 76
        }
      ],
      "source": [
        "training_set=pd.read_csv('Google_Stock_Price_Train.csv')\n",
        "training_set"
      ]
    },
    {
      "cell_type": "code",
      "execution_count": 77,
      "metadata": {
        "id": "BadAXudMDVbb"
      },
      "outputs": [],
      "source": [
        "training_set['Close'] = pd.to_numeric(training_set['Close'].str.replace(',', ''))"
      ]
    },
    {
      "cell_type": "code",
      "execution_count": 78,
      "metadata": {
        "id": "oiWRldFZsipq"
      },
      "outputs": [],
      "source": [
        "training_set = training_set.iloc[:,4:5].values"
      ]
    },
    {
      "cell_type": "code",
      "execution_count": 79,
      "metadata": {
        "id": "BSHj0yKIZFt1"
      },
      "outputs": [],
      "source": [
        "from sklearn.preprocessing import MinMaxScaler\n",
        "sc = MinMaxScaler() "
      ]
    },
    {
      "cell_type": "code",
      "execution_count": 80,
      "metadata": {
        "id": "m_khjLj5ZIcj"
      },
      "outputs": [],
      "source": [
        "training_set = sc.fit_transform(training_set)"
      ]
    },
    {
      "cell_type": "code",
      "execution_count": 81,
      "metadata": {
        "id": "XICKotTEduJV"
      },
      "outputs": [],
      "source": [
        "X_train = training_set[0:1257]\n",
        "y_train = training_set[1:1258]"
      ]
    },
    {
      "cell_type": "code",
      "execution_count": 82,
      "metadata": {
        "id": "fjmMUpydtT0U"
      },
      "outputs": [],
      "source": [
        "X_train = np.reshape(X_train, (1257, 1, 1))"
      ]
    },
    {
      "cell_type": "code",
      "execution_count": 83,
      "metadata": {
        "id": "84BQMoT_tWJC"
      },
      "outputs": [],
      "source": [
        "from keras.models import Sequential\n",
        "from keras.layers import Dense\n",
        "from keras.layers import LSTM"
      ]
    },
    {
      "cell_type": "code",
      "execution_count": 95,
      "metadata": {
        "id": "EU_v-SkqtYeK"
      },
      "outputs": [],
      "source": [
        "regressor = Sequential()\n",
        "regressor.add(LSTM(units = 10, activation = 'relu', input_shape = (None, 1)))\n",
        "regressor.add(Dense(units = 8, activation = 'relu'))\n",
        "regressor.add(Dense(units = 4, activation = 'sigmoid'))\n",
        "regressor.add(Dense(units = 1))\n"
      ]
    },
    {
      "cell_type": "code",
      "execution_count": 96,
      "metadata": {
        "colab": {
          "base_uri": "https://localhost:8080/"
        },
        "id": "9LHrJZ0athho",
        "outputId": "a8dca9b4-97bf-4859-a0a5-47bab34fce70"
      },
      "outputs": [
        {
          "output_type": "stream",
          "name": "stdout",
          "text": [
            "Epoch 1/40\n",
            "40/40 [==============================] - 2s 3ms/step - loss: 0.9739\n",
            "Epoch 2/40\n",
            "40/40 [==============================] - 0s 3ms/step - loss: 0.7225\n",
            "Epoch 3/40\n",
            "40/40 [==============================] - 0s 3ms/step - loss: 0.5116\n",
            "Epoch 4/40\n",
            "40/40 [==============================] - 0s 3ms/step - loss: 0.3356\n",
            "Epoch 5/40\n",
            "40/40 [==============================] - 0s 2ms/step - loss: 0.1956\n",
            "Epoch 6/40\n",
            "40/40 [==============================] - 0s 5ms/step - loss: 0.1005\n",
            "Epoch 7/40\n",
            "40/40 [==============================] - 0s 5ms/step - loss: 0.0512\n",
            "Epoch 8/40\n",
            "40/40 [==============================] - 0s 6ms/step - loss: 0.0333\n",
            "Epoch 9/40\n",
            "40/40 [==============================] - 0s 5ms/step - loss: 0.0278\n",
            "Epoch 10/40\n",
            "40/40 [==============================] - 0s 4ms/step - loss: 0.0249\n",
            "Epoch 11/40\n",
            "40/40 [==============================] - 0s 5ms/step - loss: 0.0220\n",
            "Epoch 12/40\n",
            "40/40 [==============================] - 0s 5ms/step - loss: 0.0191\n",
            "Epoch 13/40\n",
            "40/40 [==============================] - 0s 4ms/step - loss: 0.0162\n",
            "Epoch 14/40\n",
            "40/40 [==============================] - 0s 5ms/step - loss: 0.0134\n",
            "Epoch 15/40\n",
            "40/40 [==============================] - 0s 4ms/step - loss: 0.0110\n",
            "Epoch 16/40\n",
            "40/40 [==============================] - 0s 4ms/step - loss: 0.0088\n",
            "Epoch 17/40\n",
            "40/40 [==============================] - 0s 4ms/step - loss: 0.0070\n",
            "Epoch 18/40\n",
            "40/40 [==============================] - 0s 5ms/step - loss: 0.0055\n",
            "Epoch 19/40\n",
            "40/40 [==============================] - 0s 5ms/step - loss: 0.0045\n",
            "Epoch 20/40\n",
            "40/40 [==============================] - 0s 4ms/step - loss: 0.0037\n",
            "Epoch 21/40\n",
            "40/40 [==============================] - 0s 4ms/step - loss: 0.0031\n",
            "Epoch 22/40\n",
            "40/40 [==============================] - 0s 3ms/step - loss: 0.0027\n",
            "Epoch 23/40\n",
            "40/40 [==============================] - 0s 3ms/step - loss: 0.0025\n",
            "Epoch 24/40\n",
            "40/40 [==============================] - 0s 3ms/step - loss: 0.0023\n",
            "Epoch 25/40\n",
            "40/40 [==============================] - 0s 3ms/step - loss: 0.0022\n",
            "Epoch 26/40\n",
            "40/40 [==============================] - 0s 4ms/step - loss: 0.0021\n",
            "Epoch 27/40\n",
            "40/40 [==============================] - 0s 3ms/step - loss: 0.0020\n",
            "Epoch 28/40\n",
            "40/40 [==============================] - 0s 3ms/step - loss: 0.0019\n",
            "Epoch 29/40\n",
            "40/40 [==============================] - 0s 3ms/step - loss: 0.0019\n",
            "Epoch 30/40\n",
            "40/40 [==============================] - 0s 3ms/step - loss: 0.0018\n",
            "Epoch 31/40\n",
            "40/40 [==============================] - 0s 3ms/step - loss: 0.0018\n",
            "Epoch 32/40\n",
            "40/40 [==============================] - 0s 3ms/step - loss: 0.0017\n",
            "Epoch 33/40\n",
            "40/40 [==============================] - 0s 3ms/step - loss: 0.0017\n",
            "Epoch 34/40\n",
            "40/40 [==============================] - 0s 3ms/step - loss: 0.0017\n",
            "Epoch 35/40\n",
            "40/40 [==============================] - 0s 3ms/step - loss: 0.0016\n",
            "Epoch 36/40\n",
            "40/40 [==============================] - 0s 3ms/step - loss: 0.0016\n",
            "Epoch 37/40\n",
            "40/40 [==============================] - 0s 3ms/step - loss: 0.0016\n",
            "Epoch 38/40\n",
            "40/40 [==============================] - 0s 3ms/step - loss: 0.0015\n",
            "Epoch 39/40\n",
            "40/40 [==============================] - 0s 3ms/step - loss: 0.0015\n",
            "Epoch 40/40\n",
            "40/40 [==============================] - 0s 3ms/step - loss: 0.0015\n"
          ]
        },
        {
          "output_type": "execute_result",
          "data": {
            "text/plain": [
              "<keras.callbacks.History at 0x7f42996dc820>"
            ]
          },
          "metadata": {},
          "execution_count": 96
        }
      ],
      "source": [
        "regressor.compile(optimizer = 'adam', loss = 'mean_squared_error')\n",
        "regressor.fit(X_train, y_train, batch_size = 32, epochs = 40)"
      ]
    },
    {
      "cell_type": "code",
      "execution_count": 97,
      "metadata": {
        "id": "TU5wN4aJtleo"
      },
      "outputs": [],
      "source": [
        "test_set = pd.read_csv(\"Google_Stock_Price_Test.csv\")\n"
      ]
    },
    {
      "cell_type": "code",
      "execution_count": 87,
      "metadata": {
        "id": "plvqppUiDVbd"
      },
      "outputs": [],
      "source": [
        "# test_set['Close']"
      ]
    },
    {
      "cell_type": "code",
      "execution_count": 98,
      "metadata": {
        "id": "ZdvZRs77DVbd"
      },
      "outputs": [],
      "source": [
        "real_stock_price = test_set.iloc[:,4:5].values"
      ]
    },
    {
      "cell_type": "code",
      "execution_count": 99,
      "metadata": {
        "colab": {
          "base_uri": "https://localhost:8080/"
        },
        "id": "N2K2nYBhuLEn",
        "outputId": "2e642228-3685-4325-8cf3-e77a6076e09e"
      },
      "outputs": [
        {
          "output_type": "stream",
          "name": "stdout",
          "text": [
            "1/1 [==============================] - 0s 210ms/step\n"
          ]
        }
      ],
      "source": [
        "inputs = real_stock_price\n",
        "inputs = sc.transform(inputs)\n",
        "inputs = np.reshape(inputs, (20, 1, 1))\n",
        "predicted_stock_price = regressor.predict(inputs)\n",
        "predicted_stock_price = sc.inverse_transform(predicted_stock_price)"
      ]
    },
    {
      "cell_type": "code",
      "execution_count": 100,
      "metadata": {
        "colab": {
          "base_uri": "https://localhost:8080/",
          "height": 472
        },
        "id": "8es1PFZwuNKt",
        "outputId": "157d6848-73c2-4f82-fe33-e95d8fa7b5dd"
      },
      "outputs": [
        {
          "output_type": "display_data",
          "data": {
            "text/plain": [
              "<Figure size 640x480 with 1 Axes>"
            ],
            "image/png": "[encoded data removed]"
          },
          "metadata": {}
        }
      ],
      "source": [
        "plt.plot(real_stock_price, color = 'red', label = 'Real Google Stock Price')\n",
        "plt.plot(predicted_stock_price, color = 'blue', label = 'Predicted Google Stock Price')\n",
        "plt.title('Google Stock Price Prediction')\n",
        "plt.xlabel('Time')\n",
        "plt.ylabel('Google Time Price')\n",
        "plt.legend()\n",
        "plt.show()"
      ]
    },
    {
      "cell_type": "code",
      "execution_count": 101,
      "metadata": {
        "id": "rlPoX3EBuQXq"
      },
      "outputs": [],
      "source": [
        "real_stock_price = pd.read_csv(\"Google_Stock_Price_Train.csv\")\n",
        "real_stock_price = real_stock_price.iloc[:,1:2].values\n"
      ]
    },
    {
      "cell_type": "code",
      "execution_count": 102,
      "metadata": {
        "colab": {
          "base_uri": "https://localhost:8080/"
        },
        "id": "8zjce76iuTja",
        "outputId": "bcf66e32-de25-414d-b71c-4a3e2521e1b2"
      },
      "outputs": [
        {
          "output_type": "stream",
          "name": "stdout",
          "text": [
            "40/40 [==============================] - 0s 2ms/step\n"
          ]
        }
      ],
      "source": [
        "predicted_stock_price_train = regressor.predict(X_train)\n",
        "predicted_stock_price_train = sc.inverse_transform(predicted_stock_price_train)"
      ]
    },
    {
      "cell_type": "code",
      "execution_count": 103,
      "metadata": {
        "colab": {
          "base_uri": "https://localhost:8080/",
          "height": 472
        },
        "id": "iYM3P6b0uVyo",
        "outputId": "27d6e77e-18a5-4aad-ea65-865b7724a586"
      },
      "outputs": [
        {
          "output_type": "display_data",
          "data": {
            "text/plain": [
              "<Figure size 640x480 with 1 Axes>"
            ],
            "image/png": "[encoded data removed]"
          },
          "metadata": {}
        }
      ],
      "source": [
        "plt.plot(real_stock_price, color = 'red', label = 'Real Google Stock Price')\n",
        "plt.plot(predicted_stock_price_train, color = 'blue', label = 'Predicted Google Stock Price')\n",
        "plt.title('Google Stock Price Prediction')\n",
        "plt.xlabel('Time')\n",
        "plt.ylabel('Google Time Price')\n",
        "plt.legend()\n",
        "plt.show()"
      ]
    },
    {
      "cell_type": "code",
      "execution_count": 104,
      "metadata": {
        "id": "y6f0_cJRuu4z",
        "colab": {
          "base_uri": "https://localhost:8080/"
        },
        "outputId": "31121408-80ac-4439-fc3a-989c877654c4"
      },
      "outputs": [
        {
          "output_type": "execute_result",
          "data": {
            "text/plain": [
              "array([[666.00165],\n",
              "       [669.17053],\n",
              "       [658.93475],\n",
              "       ...,\n",
              "       [805.239  ],\n",
              "       [798.427  ],\n",
              "       [796.0485 ]], dtype=float32)"
            ]
          },
          "metadata": {},
          "execution_count": 104
        }
      ],
      "source": [
        "predicted_stock_price_train"
      ]
    }
  ],
  "metadata": {
    "colab": {
      "provenance": []
    },
    "kernelspec": {
      "display_name": "Python 3 (ipykernel)",
      "language": "python",
      "name": "python3"
    },
    "language_info": {
      "codemirror_mode": {
        "name": "ipython",
        "version": 3
      },
      "file_extension": ".py",
      "mimetype": "text/x-python",
      "name": "python",
      "nbconvert_exporter": "python",
      "pygments_lexer": "ipython3",
      "version": "3.9.13"
    }
  },
  "nbformat": 4,
  "nbformat_minor": 0
}