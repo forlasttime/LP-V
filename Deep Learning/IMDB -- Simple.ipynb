{
 "cells": [
  {
   "cell_type": "code",
   "execution_count": 1,
   "id": "53b35485",
   "metadata": {},
   "outputs": [],
   "source": [
    "import numpy as np\n",
    "import pandas as pd\n",
    "import tensorflow as tf\n",
    "from sklearn.model_selection import train_test_split\n",
    "from tensorflow import keras\n",
    "from tensorflow.keras.preprocessing.text import Tokenizer\n",
    "from tensorflow.keras.preprocessing.sequence import pad_sequences\n",
    "from tensorflow.keras.models import Sequential\n",
    "from tensorflow.keras.layers import Embedding, Flatten, Dense"
   ]
  },
  {
   "cell_type": "code",
   "execution_count": 2,
   "id": "683ce162",
   "metadata": {},
   "outputs": [],
   "source": [
    "df = pd.read_csv('IMDB Dataset.csv')"
   ]
  },
  {
   "cell_type": "code",
   "execution_count": 3,
   "id": "3c20cd6c",
   "metadata": {},
   "outputs": [],
   "source": [
    "train_df, test_df = train_test_split(df, test_size=0.2, random_state=42)\n",
    "\n",
    "# Tokenize the text data\n",
    "max_words = 10000\n",
    "tokenizer = Tokenizer(num_words=max_words)\n",
    "tokenizer.fit_on_texts(train_df['review'])"
   ]
  },
  {
   "cell_type": "code",
   "execution_count": 4,
   "id": "13dc0a34",
   "metadata": {},
   "outputs": [],
   "source": [
    "# Convert the text data to sequences\n",
    "x_train = tokenizer.texts_to_sequences(train_df['review'])\n",
    "x_test = tokenizer.texts_to_sequences(test_df['review'])"
   ]
  },
  {
   "cell_type": "code",
   "execution_count": 5,
   "id": "6a5d28b8",
   "metadata": {},
   "outputs": [],
   "source": [
    "max_len = 100\n",
    "x_train = pad_sequences(x_train, maxlen=max_len)\n",
    "x_test = pad_sequences(x_test, maxlen=max_len)"
   ]
  },
  {
   "cell_type": "code",
   "execution_count": 6,
   "id": "0c9ab2b4",
   "metadata": {},
   "outputs": [],
   "source": [
    "y_train = train_df['sentiment'].replace({'positive': 1, 'negative': 0})\n",
    "y_test = test_df['sentiment'].replace({'positive': 1, 'negative': 0})"
   ]
  },
  {
   "cell_type": "code",
   "execution_count": 7,
   "id": "d8ecad83",
   "metadata": {},
   "outputs": [],
   "source": [
    "model = Sequential()\n",
    "model.add(Embedding(max_words, 16, input_length=max_len))\n",
    "model.add(Flatten())\n",
    "model.add(Dense(16, activation='relu'))\n",
    "model.add(Dense(1, activation='sigmoid'))\n"
   ]
  },
  {
   "cell_type": "code",
   "execution_count": 8,
   "id": "e61effd3",
   "metadata": {},
   "outputs": [],
   "source": [
    "# Compile the model\n",
    "model.compile(optimizer='adam', loss='binary_crossentropy', metrics=['accuracy'])"
   ]
  },
  {
   "cell_type": "code",
   "execution_count": 9,
   "id": "4dfd6362",
   "metadata": {},
   "outputs": [
    {
     "name": "stdout",
     "output_type": "stream",
     "text": [
      "Epoch 1/10\n",
      "282/282 [==============================] - 3s 7ms/step - loss: 0.4974 - accuracy: 0.7430 - val_loss: 0.3284 - val_accuracy: 0.8608\n",
      "Epoch 2/10\n",
      "282/282 [==============================] - 2s 7ms/step - loss: 0.2482 - accuracy: 0.9009 - val_loss: 0.3146 - val_accuracy: 0.8662\n",
      "Epoch 3/10\n",
      "282/282 [==============================] - 3s 9ms/step - loss: 0.1489 - accuracy: 0.9494 - val_loss: 0.3602 - val_accuracy: 0.8570\n",
      "Epoch 4/10\n",
      "282/282 [==============================] - 3s 9ms/step - loss: 0.0668 - accuracy: 0.9851 - val_loss: 0.4293 - val_accuracy: 0.8472\n",
      "Epoch 5/10\n",
      "282/282 [==============================] - 3s 9ms/step - loss: 0.0231 - accuracy: 0.9974 - val_loss: 0.5126 - val_accuracy: 0.8438\n",
      "Epoch 6/10\n",
      "282/282 [==============================] - 3s 9ms/step - loss: 0.0087 - accuracy: 0.9995 - val_loss: 0.5473 - val_accuracy: 0.8457\n",
      "Epoch 7/10\n",
      "282/282 [==============================] - 3s 9ms/step - loss: 0.0039 - accuracy: 0.9999 - val_loss: 0.5853 - val_accuracy: 0.8472\n",
      "Epoch 8/10\n",
      "282/282 [==============================] - 2s 9ms/step - loss: 0.0023 - accuracy: 0.9999 - val_loss: 0.6179 - val_accuracy: 0.8470\n",
      "Epoch 9/10\n",
      "282/282 [==============================] - 2s 7ms/step - loss: 0.0015 - accuracy: 0.9999 - val_loss: 0.6586 - val_accuracy: 0.8428\n",
      "Epoch 10/10\n",
      "282/282 [==============================] - 2s 9ms/step - loss: 9.5580e-04 - accuracy: 1.0000 - val_loss: 0.6758 - val_accuracy: 0.8460\n"
     ]
    },
    {
     "data": {
      "text/plain": [
       "<keras.callbacks.History at 0x29dcacabfa0>"
      ]
     },
     "execution_count": 9,
     "metadata": {},
     "output_type": "execute_result"
    }
   ],
   "source": [
    "# Train the model\n",
    "batch_size = 128\n",
    "epochs = 10\n",
    "model.fit(x_train, y_train, batch_size=batch_size, epochs=epochs, validation_split=0.1)\n"
   ]
  },
  {
   "cell_type": "code",
   "execution_count": 10,
   "id": "700cf2cc",
   "metadata": {},
   "outputs": [
    {
     "name": "stdout",
     "output_type": "stream",
     "text": [
      "313/313 [==============================] - 1s 3ms/step\n"
     ]
    }
   ],
   "source": [
    "# Make predictions on test data\n",
    "predictions = model.predict(x_test)\n",
    "predicted_labels = np.round(predictions).flatten()"
   ]
  },
  {
   "cell_type": "code",
   "execution_count": 12,
   "id": "963b03a4",
   "metadata": {},
   "outputs": [
    {
     "name": "stdout",
     "output_type": "stream",
     "text": [
      "Classification Report:\n",
      "              precision    recall  f1-score   support\n",
      "\n",
      "           0       0.84      0.84      0.84      4961\n",
      "           1       0.85      0.85      0.85      5039\n",
      "\n",
      "    accuracy                           0.84     10000\n",
      "   macro avg       0.84      0.84      0.84     10000\n",
      "weighted avg       0.84      0.84      0.84     10000\n",
      "\n"
     ]
    }
   ],
   "source": [
    "from sklearn.metrics import classification_report, confusion_matrix\n",
    "classification_rep = classification_report(y_test, predicted_labels)\n",
    "print('Classification Report:')\n",
    "print(classification_rep)"
   ]
  },
  {
   "cell_type": "code",
   "execution_count": 13,
   "id": "3c5acc1c",
   "metadata": {},
   "outputs": [
    {
     "name": "stdout",
     "output_type": "stream",
     "text": [
      "Confusion Matrix:\n",
      "[[4180  781]\n",
      " [ 777 4262]]\n"
     ]
    }
   ],
   "source": [
    "# Create the confusion matrix\n",
    "confusion_mtx = confusion_matrix(y_test, predicted_labels)\n",
    "print('Confusion Matrix:')\n",
    "print(confusion_mtx)"
   ]
  },
  {
   "cell_type": "code",
   "execution_count": 16,
   "id": "18ac8251",
   "metadata": {},
   "outputs": [],
   "source": [
    "import seaborn as sns\n"
   ]
  },
  {
   "cell_type": "code",
   "execution_count": 15,
   "id": "637b4d08",
   "metadata": {},
   "outputs": [
    {
     "data": {
      "text/plain": [
       "<AxesSubplot:>"
      ]
     },
     "execution_count": 15,
     "metadata": {},
     "output_type": "execute_result"
    },
    {
     "data": {
      "image/png": "[encoded data removed]",
      "text/plain": [
       "<Figure size 640x480 with 2 Axes>"
      ]
     },
     "metadata": {},
     "output_type": "display_data"
    }
   ],
   "source": [
    "sns.heatmap(confusion_mtx, annot = True)"
   ]
  },
  {
   "cell_type": "code",
   "execution_count": null,
   "id": "4f753ad4",
   "metadata": {},
   "outputs": [],
   "source": []
  }
 ],
 "metadata": {
  "kernelspec": {
   "display_name": "Python 3 (ipykernel)",
   "language": "python",
   "name": "python3"
  },
  "language_info": {
   "codemirror_mode": {
    "name": "ipython",
    "version": 3
   },
   "file_extension": ".py",
   "mimetype": "text/x-python",
   "name": "python",
   "nbconvert_exporter": "python",
   "pygments_lexer": "ipython3",
   "version": "3.9.13"
  }
 },
 "nbformat": 4,
 "nbformat_minor": 5
}
